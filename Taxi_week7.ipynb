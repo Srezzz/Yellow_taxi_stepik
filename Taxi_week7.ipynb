{
 "cells": [
  {
   "cell_type": "markdown",
   "metadata": {},
   "source": [
    "# Demo project"
   ]
  },
  {
   "cell_type": "code",
   "execution_count": 1,
   "metadata": {},
   "outputs": [],
   "source": [
    "import folium\n",
    "import pandas as pd\n",
    "import numpy as np\n",
    "from ipywidgets import interact\n",
    "import matplotlib.pyplot as plt"
   ]
  },
  {
   "cell_type": "code",
   "execution_count": 2,
   "metadata": {},
   "outputs": [],
   "source": [
    "# разбор прогнозов на дату\n",
    "def date_parser(x):\n",
    "    if int(x.split('_')[2]) < 10:\n",
    "        date = pd.to_datetime(x.split('_')[1] + ' 0' + x.split('_')[2])\n",
    "    else:\n",
    "        date = pd.to_datetime(x.split('_')[1] + ' ' + x.split('_')[2])\n",
    "    return date"
   ]
  },
  {
   "cell_type": "code",
   "execution_count": 19,
   "metadata": {},
   "outputs": [],
   "source": [
    "#Прорисовка интерактивной карты с управляющими элементами\n",
    "def interact_map(day, hour, predictions, real_data):\n",
    "    f = folium.Figure(width=750, height=750)\n",
    "    \n",
    "    m = folium.Map(location=[lat1, lng1], zoom_start=11, min_zoom=9).add_to(f)\n",
    "    \n",
    "    base_map = folium.FeatureGroup(name='Basemap', overlay=True, control=False)\n",
    "    folium.TileLayer(tiles='OpenStreetMap').add_to(base_map)\n",
    "    base_map.add_to(m)\n",
    "    \n",
    "    heat_map = real_data[real_data.time == day]\n",
    "    mask1 = predictions.date == day\n",
    "    mask2 = predictions.hour == hour\n",
    "    predict_hours = predictions.predict_time.unique()\n",
    "    \n",
    "    for i in predict_hours:\n",
    "        mask3 = predictions.predict_time == i\n",
    "        heat_map = predictions[mask1 & mask2 & mask3]\n",
    "        CH=folium.features.Choropleth(geo_data=regs_json,\n",
    "                                   data=heat_map,\n",
    "                                   columns=['region','rides'],\n",
    "                                   key_on=\"feature.region\",\n",
    "                                   line_weight=0,\n",
    "                                   legend_name=f'{i} hour prediction',\n",
    "                                   fill_opacity=0.85,\n",
    "                                   fill_color='YlOrBr',\n",
    "                                   nan_fill_opacity=0,\n",
    "                                   name=f'{i} hour prediction',\n",
    "                                   show=False,\n",
    "                                   overlay=False,\n",
    "                                   bins=6, highlight=True)\n",
    "        \n",
    "        #убрать легенды с карты, мешают\n",
    "        for child in CH._children:\n",
    "            if child.startswith('color_map'):\n",
    "                del(CH._children[child])\n",
    "    \n",
    "        CH.add_to(m)\n",
    " \n",
    "    folium.LayerControl().add_to(m)\n",
    "    return f"
   ]
  },
  {
   "cell_type": "code",
   "execution_count": 15,
   "metadata": {},
   "outputs": [],
   "source": [
    "#рисовка интерактивного графика\n",
    "def interact_graph(region, pred_hour, predictions, june_real_data):\n",
    "    T = predictions[(predictions.region==region) & (predictions.predict_time==pred_hour)].date_hour + pd.Timedelta(hours=pred_hour-1)\n",
    "    X = predictions[(predictions.region==region) & (predictions.predict_time==pred_hour)].rides\n",
    "    plt.figure(figsize=(20,5))\n",
    "    plt.ion()\n",
    "    plt.plot(T, X)\n",
    "    plt.plot(june_real_data.loc[:, 'time'],june_real_data.loc[:, region])\n",
    "    plt.legend([f'{region} predictions at {pred_hour}-hour model',f'{region} real june rides'], prop={'size': 16})\n",
    "    plt.show()"
   ]
  },
  {
   "cell_type": "markdown",
   "metadata": {},
   "source": [
    "Загрузка и корректировка данных"
   ]
  },
  {
   "cell_type": "code",
   "execution_count": 5,
   "metadata": {},
   "outputs": [],
   "source": [
    "june_real_data = pd.read_csv('aggr_06_2016.csv', index_col=0, parse_dates=True).T\n",
    "regions = pd.read_csv('regions.csv', delimiter=';')\n",
    "june_pred_data = pd.read_csv('week6_final_rf.csv')"
   ]
  },
  {
   "cell_type": "code",
   "execution_count": 6,
   "metadata": {},
   "outputs": [
    {
     "data": {
      "text/html": [
       "<div>\n",
       "<style scoped>\n",
       "    .dataframe tbody tr th:only-of-type {\n",
       "        vertical-align: middle;\n",
       "    }\n",
       "\n",
       "    .dataframe tbody tr th {\n",
       "        vertical-align: top;\n",
       "    }\n",
       "\n",
       "    .dataframe thead th {\n",
       "        text-align: right;\n",
       "    }\n",
       "</style>\n",
       "<table border=\"1\" class=\"dataframe\">\n",
       "  <thead>\n",
       "    <tr style=\"text-align: right;\">\n",
       "      <th>region</th>\n",
       "      <th>time</th>\n",
       "      <th>1</th>\n",
       "      <th>2</th>\n",
       "      <th>3</th>\n",
       "      <th>4</th>\n",
       "      <th>5</th>\n",
       "      <th>6</th>\n",
       "      <th>7</th>\n",
       "      <th>8</th>\n",
       "      <th>9</th>\n",
       "      <th>...</th>\n",
       "      <th>2491</th>\n",
       "      <th>2492</th>\n",
       "      <th>2493</th>\n",
       "      <th>2494</th>\n",
       "      <th>2495</th>\n",
       "      <th>2496</th>\n",
       "      <th>2497</th>\n",
       "      <th>2498</th>\n",
       "      <th>2499</th>\n",
       "      <th>2500</th>\n",
       "    </tr>\n",
       "  </thead>\n",
       "  <tbody>\n",
       "    <tr>\n",
       "      <th>0</th>\n",
       "      <td>2016-06-01 00:00:00</td>\n",
       "      <td>0</td>\n",
       "      <td>0</td>\n",
       "      <td>0</td>\n",
       "      <td>0</td>\n",
       "      <td>0</td>\n",
       "      <td>0</td>\n",
       "      <td>0</td>\n",
       "      <td>0</td>\n",
       "      <td>0</td>\n",
       "      <td>...</td>\n",
       "      <td>0</td>\n",
       "      <td>0</td>\n",
       "      <td>0</td>\n",
       "      <td>0</td>\n",
       "      <td>0</td>\n",
       "      <td>0</td>\n",
       "      <td>0</td>\n",
       "      <td>0</td>\n",
       "      <td>0</td>\n",
       "      <td>0</td>\n",
       "    </tr>\n",
       "    <tr>\n",
       "      <th>1</th>\n",
       "      <td>2016-06-01 01:00:00</td>\n",
       "      <td>0</td>\n",
       "      <td>0</td>\n",
       "      <td>0</td>\n",
       "      <td>0</td>\n",
       "      <td>0</td>\n",
       "      <td>0</td>\n",
       "      <td>0</td>\n",
       "      <td>0</td>\n",
       "      <td>0</td>\n",
       "      <td>...</td>\n",
       "      <td>0</td>\n",
       "      <td>0</td>\n",
       "      <td>0</td>\n",
       "      <td>0</td>\n",
       "      <td>0</td>\n",
       "      <td>0</td>\n",
       "      <td>0</td>\n",
       "      <td>0</td>\n",
       "      <td>0</td>\n",
       "      <td>0</td>\n",
       "    </tr>\n",
       "    <tr>\n",
       "      <th>2</th>\n",
       "      <td>2016-06-01 02:00:00</td>\n",
       "      <td>0</td>\n",
       "      <td>0</td>\n",
       "      <td>0</td>\n",
       "      <td>0</td>\n",
       "      <td>0</td>\n",
       "      <td>0</td>\n",
       "      <td>0</td>\n",
       "      <td>0</td>\n",
       "      <td>0</td>\n",
       "      <td>...</td>\n",
       "      <td>0</td>\n",
       "      <td>0</td>\n",
       "      <td>0</td>\n",
       "      <td>0</td>\n",
       "      <td>0</td>\n",
       "      <td>0</td>\n",
       "      <td>0</td>\n",
       "      <td>0</td>\n",
       "      <td>0</td>\n",
       "      <td>0</td>\n",
       "    </tr>\n",
       "    <tr>\n",
       "      <th>3</th>\n",
       "      <td>2016-06-01 03:00:00</td>\n",
       "      <td>0</td>\n",
       "      <td>0</td>\n",
       "      <td>0</td>\n",
       "      <td>0</td>\n",
       "      <td>0</td>\n",
       "      <td>0</td>\n",
       "      <td>0</td>\n",
       "      <td>0</td>\n",
       "      <td>0</td>\n",
       "      <td>...</td>\n",
       "      <td>0</td>\n",
       "      <td>0</td>\n",
       "      <td>0</td>\n",
       "      <td>0</td>\n",
       "      <td>0</td>\n",
       "      <td>0</td>\n",
       "      <td>0</td>\n",
       "      <td>0</td>\n",
       "      <td>0</td>\n",
       "      <td>0</td>\n",
       "    </tr>\n",
       "    <tr>\n",
       "      <th>4</th>\n",
       "      <td>2016-06-01 04:00:00</td>\n",
       "      <td>0</td>\n",
       "      <td>0</td>\n",
       "      <td>0</td>\n",
       "      <td>0</td>\n",
       "      <td>0</td>\n",
       "      <td>0</td>\n",
       "      <td>0</td>\n",
       "      <td>0</td>\n",
       "      <td>0</td>\n",
       "      <td>...</td>\n",
       "      <td>0</td>\n",
       "      <td>0</td>\n",
       "      <td>0</td>\n",
       "      <td>0</td>\n",
       "      <td>0</td>\n",
       "      <td>0</td>\n",
       "      <td>0</td>\n",
       "      <td>0</td>\n",
       "      <td>0</td>\n",
       "      <td>0</td>\n",
       "    </tr>\n",
       "  </tbody>\n",
       "</table>\n",
       "<p>5 rows × 2501 columns</p>\n",
       "</div>"
      ],
      "text/plain": [
       "region                time  1  2  3  4  5  6  7  8  9  ...  2491  2492  2493  \\\n",
       "0      2016-06-01 00:00:00  0  0  0  0  0  0  0  0  0  ...     0     0     0   \n",
       "1      2016-06-01 01:00:00  0  0  0  0  0  0  0  0  0  ...     0     0     0   \n",
       "2      2016-06-01 02:00:00  0  0  0  0  0  0  0  0  0  ...     0     0     0   \n",
       "3      2016-06-01 03:00:00  0  0  0  0  0  0  0  0  0  ...     0     0     0   \n",
       "4      2016-06-01 04:00:00  0  0  0  0  0  0  0  0  0  ...     0     0     0   \n",
       "\n",
       "region  2494  2495  2496  2497  2498  2499  2500  \n",
       "0          0     0     0     0     0     0     0  \n",
       "1          0     0     0     0     0     0     0  \n",
       "2          0     0     0     0     0     0     0  \n",
       "3          0     0     0     0     0     0     0  \n",
       "4          0     0     0     0     0     0     0  \n",
       "\n",
       "[5 rows x 2501 columns]"
      ]
     },
     "execution_count": 6,
     "metadata": {},
     "output_type": "execute_result"
    }
   ],
   "source": [
    "june_real_data.reset_index(inplace=True)\n",
    "june_real_data.rename(columns={'index':'time'}, inplace=True)\n",
    "june_real_data['time']= pd.to_datetime(june_real_data['time'])\n",
    "june_real_data.head()"
   ]
  },
  {
   "cell_type": "code",
   "execution_count": 7,
   "metadata": {},
   "outputs": [
    {
     "data": {
      "text/html": [
       "<div>\n",
       "<style scoped>\n",
       "    .dataframe tbody tr th:only-of-type {\n",
       "        vertical-align: middle;\n",
       "    }\n",
       "\n",
       "    .dataframe tbody tr th {\n",
       "        vertical-align: top;\n",
       "    }\n",
       "\n",
       "    .dataframe thead th {\n",
       "        text-align: right;\n",
       "    }\n",
       "</style>\n",
       "<table border=\"1\" class=\"dataframe\">\n",
       "  <thead>\n",
       "    <tr style=\"text-align: right;\">\n",
       "      <th></th>\n",
       "      <th>id</th>\n",
       "      <th>y</th>\n",
       "    </tr>\n",
       "  </thead>\n",
       "  <tbody>\n",
       "    <tr>\n",
       "      <th>0</th>\n",
       "      <td>1075_2016-05-31_23_1</td>\n",
       "      <td>24</td>\n",
       "    </tr>\n",
       "    <tr>\n",
       "      <th>1</th>\n",
       "      <td>1075_2016-05-31_23_2</td>\n",
       "      <td>15</td>\n",
       "    </tr>\n",
       "    <tr>\n",
       "      <th>2</th>\n",
       "      <td>1075_2016-05-31_23_3</td>\n",
       "      <td>6</td>\n",
       "    </tr>\n",
       "    <tr>\n",
       "      <th>3</th>\n",
       "      <td>1075_2016-05-31_23_4</td>\n",
       "      <td>3</td>\n",
       "    </tr>\n",
       "    <tr>\n",
       "      <th>4</th>\n",
       "      <td>1075_2016-05-31_23_5</td>\n",
       "      <td>2</td>\n",
       "    </tr>\n",
       "  </tbody>\n",
       "</table>\n",
       "</div>"
      ],
      "text/plain": [
       "                     id   y\n",
       "0  1075_2016-05-31_23_1  24\n",
       "1  1075_2016-05-31_23_2  15\n",
       "2  1075_2016-05-31_23_3   6\n",
       "3  1075_2016-05-31_23_4   3\n",
       "4  1075_2016-05-31_23_5   2"
      ]
     },
     "execution_count": 7,
     "metadata": {},
     "output_type": "execute_result"
    }
   ],
   "source": [
    "june_pred_data.head()"
   ]
  },
  {
   "cell_type": "code",
   "execution_count": 8,
   "metadata": {},
   "outputs": [
    {
     "name": "stdout",
     "output_type": "stream",
     "text": [
      "Wall time: 1min 8s\n"
     ]
    }
   ],
   "source": [
    "%%time\n",
    "#в отдельный ДФ таблицу предсказаний\n",
    "predictions = pd.DataFrame()\n",
    "predictions['date'] = june_pred_data.iloc[:, 0].apply(lambda x: pd.to_datetime(x.split('_')[1]))\n",
    "predictions['hour'] = june_pred_data.iloc[:, 0].apply(lambda x: int(x.split('_')[2]))\n",
    "predictions['region'] = june_pred_data.iloc[:, 0].apply(lambda x: int(x.split('_')[0]))\n",
    "predictions['predict_time'] = june_pred_data.iloc[:, 0].apply(lambda x: int(x.split('_')[-1]))\n",
    "predictions['rides'] = june_pred_data['y']\n",
    "predictions['date_hour'] = june_pred_data.iloc[:, 0].apply(date_parser)"
   ]
  },
  {
   "cell_type": "code",
   "execution_count": 9,
   "metadata": {},
   "outputs": [
    {
     "data": {
      "text/html": [
       "<div>\n",
       "<style scoped>\n",
       "    .dataframe tbody tr th:only-of-type {\n",
       "        vertical-align: middle;\n",
       "    }\n",
       "\n",
       "    .dataframe tbody tr th {\n",
       "        vertical-align: top;\n",
       "    }\n",
       "\n",
       "    .dataframe thead th {\n",
       "        text-align: right;\n",
       "    }\n",
       "</style>\n",
       "<table border=\"1\" class=\"dataframe\">\n",
       "  <thead>\n",
       "    <tr style=\"text-align: right;\">\n",
       "      <th></th>\n",
       "      <th>date</th>\n",
       "      <th>hour</th>\n",
       "      <th>region</th>\n",
       "      <th>predict_time</th>\n",
       "      <th>rides</th>\n",
       "      <th>date_hour</th>\n",
       "    </tr>\n",
       "  </thead>\n",
       "  <tbody>\n",
       "    <tr>\n",
       "      <th>0</th>\n",
       "      <td>2016-05-31</td>\n",
       "      <td>23</td>\n",
       "      <td>1075</td>\n",
       "      <td>1</td>\n",
       "      <td>24</td>\n",
       "      <td>2016-05-31 23:00:00</td>\n",
       "    </tr>\n",
       "    <tr>\n",
       "      <th>1</th>\n",
       "      <td>2016-05-31</td>\n",
       "      <td>23</td>\n",
       "      <td>1075</td>\n",
       "      <td>2</td>\n",
       "      <td>15</td>\n",
       "      <td>2016-05-31 23:00:00</td>\n",
       "    </tr>\n",
       "    <tr>\n",
       "      <th>2</th>\n",
       "      <td>2016-05-31</td>\n",
       "      <td>23</td>\n",
       "      <td>1075</td>\n",
       "      <td>3</td>\n",
       "      <td>6</td>\n",
       "      <td>2016-05-31 23:00:00</td>\n",
       "    </tr>\n",
       "    <tr>\n",
       "      <th>3</th>\n",
       "      <td>2016-05-31</td>\n",
       "      <td>23</td>\n",
       "      <td>1075</td>\n",
       "      <td>4</td>\n",
       "      <td>3</td>\n",
       "      <td>2016-05-31 23:00:00</td>\n",
       "    </tr>\n",
       "    <tr>\n",
       "      <th>4</th>\n",
       "      <td>2016-05-31</td>\n",
       "      <td>23</td>\n",
       "      <td>1075</td>\n",
       "      <td>5</td>\n",
       "      <td>2</td>\n",
       "      <td>2016-05-31 23:00:00</td>\n",
       "    </tr>\n",
       "  </tbody>\n",
       "</table>\n",
       "</div>"
      ],
      "text/plain": [
       "        date  hour  region  predict_time  rides           date_hour\n",
       "0 2016-05-31    23    1075             1     24 2016-05-31 23:00:00\n",
       "1 2016-05-31    23    1075             2     15 2016-05-31 23:00:00\n",
       "2 2016-05-31    23    1075             3      6 2016-05-31 23:00:00\n",
       "3 2016-05-31    23    1075             4      3 2016-05-31 23:00:00\n",
       "4 2016-05-31    23    1075             5      2 2016-05-31 23:00:00"
      ]
     },
     "execution_count": 9,
     "metadata": {},
     "output_type": "execute_result"
    }
   ],
   "source": [
    "predictions.head()"
   ]
  },
  {
   "cell_type": "code",
   "execution_count": 10,
   "metadata": {},
   "outputs": [],
   "source": [
    "#стартовые точки для генерации карты\n",
    "lng1 = -73.985428\n",
    "lat1 = 40.748817"
   ]
  },
  {
   "cell_type": "markdown",
   "metadata": {},
   "source": [
    "Регионы для считывания в GeoSon"
   ]
  },
  {
   "cell_type": "code",
   "execution_count": 11,
   "metadata": {},
   "outputs": [],
   "source": [
    "regs_json = {'type': \"FeatureCollection\", 'features': \n",
    "    [{'type': 'Feature', 'region': elem[0], \n",
    "     'geometry': {'type': 'Polygon', \"coordinates\": [\n",
    "             [ [elem[2],elem[3]], [elem[1], elem[3]], [elem[1], elem[4]],[elem[2], elem[4]] ]\n",
    "             ]},\n",
    "     'properties': {'region': elem[0]}\n",
    "    } for elem in regions.itertuples(index=False)]\n",
    "    }"
   ]
  },
  {
   "cell_type": "markdown",
   "metadata": {},
   "source": [
    "Интерактивная карта. При выборе даты/часа перегружается. Слои показывают плотность спроса по прогнозам на 1-6 часов вперед"
   ]
  },
  {
   "cell_type": "code",
   "execution_count": 20,
   "metadata": {},
   "outputs": [
    {
     "data": {
      "application/vnd.jupyter.widget-view+json": {
       "model_id": "6fd31e3885f84e03beee14f16e07c260",
       "version_major": 2,
       "version_minor": 0
      },
      "text/plain": [
       "interactive(children=(Dropdown(description='day', options=('2016-06-01', '2016-06-02', '2016-06-03', '2016-06-…"
      ]
     },
     "metadata": {},
     "output_type": "display_data"
    },
    {
     "data": {
      "text/plain": [
       "<function __main__.<lambda>(day, hour)>"
      ]
     },
     "execution_count": 20,
     "metadata": {},
     "output_type": "execute_result"
    }
   ],
   "source": [
    "interact(lambda day, hour: interact_map(day, hour, predictions, june_real_data),\n",
    "         day=pd.date_range(start='2016-06-01', end='2016-06-30').strftime('%Y-%m-%d'),\n",
    "         hour=np.sort(predictions.hour.unique()))"
   ]
  },
  {
   "cell_type": "markdown",
   "metadata": {},
   "source": [
    "График сравнения предсказаний с реальными значениями спроса по регионам"
   ]
  },
  {
   "cell_type": "code",
   "execution_count": 16,
   "metadata": {},
   "outputs": [
    {
     "data": {
      "application/vnd.jupyter.widget-view+json": {
       "model_id": "aba44eb949424c348efce20fbf5ccd76",
       "version_major": 2,
       "version_minor": 0
      },
      "text/plain": [
       "interactive(children=(Dropdown(description='region', options=(1075, 1076, 1077, 1125, 1126, 1127, 1128, 1129, …"
      ]
     },
     "metadata": {},
     "output_type": "display_data"
    },
    {
     "data": {
      "text/plain": [
       "<function __main__.<lambda>(region, pred_hour)>"
      ]
     },
     "execution_count": 16,
     "metadata": {},
     "output_type": "execute_result"
    }
   ],
   "source": [
    "#добавление кнопок zoom не осилила. \n",
    "interact(lambda region, pred_hour: interact_graph(region, pred_hour, predictions, june_real_data),\n",
    "        region=predictions.region.unique(),\n",
    "        pred_hour=predictions.predict_time.unique())"
   ]
  }
 ],
 "metadata": {
  "kernelspec": {
   "display_name": "Python 3",
   "language": "python",
   "name": "python3"
  },
  "language_info": {
   "codemirror_mode": {
    "name": "ipython",
    "version": 3
   },
   "file_extension": ".py",
   "mimetype": "text/x-python",
   "name": "python",
   "nbconvert_exporter": "python",
   "pygments_lexer": "ipython3",
   "version": "3.7.6"
  }
 },
 "nbformat": 4,
 "nbformat_minor": 4
}
